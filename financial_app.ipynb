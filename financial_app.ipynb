{
 "cells": [
  {
   "cell_type": "code",
   "execution_count": 71,
   "id": "b7eb179a-a35e-4d1e-af12-787656cfd19b",
   "metadata": {},
   "outputs": [],
   "source": [
    "# Importation des librairies\n",
    "import streamlit as st\n",
    "from pandas_datareader.data import DataReader\n",
    "import matplotlib.pyplot as plt\n",
    "import pandas as pd\n",
    "import numpy as np\n",
    "from datetime import date\n",
    "import plotly.express as px\n",
    "import plotly.tools as tls\n",
    "import yfinance as yf\n",
    "\n",
    "# URLs pour les indices boursiers\n",
    "url_sp500 = \"https://en.wikipedia.org/wiki/List_of_S%26P_500_companies\"  # USA\n",
    "url_cac40 = \"https://en.wikipedia.org/wiki/CAC_40\"  # Paris\n",
    "url_ftse100 = \"https://en.wikipedia.org/wiki/FTSE_100_Index\"  # Londres\n",
    "url_nikkei = \"https://bullishbears.com/nikkei-225-stocks-list/#:~:text=The%20Bullish%20Bears%20break%20down%20a%20list%20of%20the%20Nikkei\"  # Tokyo\n",
    "url_dax = \"https://en.wikipedia.org/wiki/DAX\"  # Berlin\n",
    "\n",
    "# Fonction pour lire les tables en toute sécurité\n",
    "def read_table(url, index):\n",
    "    try:\n",
    "        df = pd.read_html(url)[index]\n",
    "        st.success(f\"Table lue avec succès depuis {url}.\")\n",
    "        return df\n",
    "    except Exception as e:\n",
    "        st.error(f\"Erreur lors de la lecture de la table à partir de {url} : {e}\")\n",
    "        return pd.DataFrame()  # Retourne un DataFrame vide en cas d'erreur\n",
    "\n",
    "# Chargement et traitement des données pour chaque indice boursier\n",
    "dax = read_table(url_dax, 4)\n",
    "if 'Company' in dax.columns and 'Ticker' in dax.columns:\n",
    "    dax['NameOfStock'] = dax['Company'] + \"_\" + dax['Ticker']\n",
    "\n",
    "nikkei = read_table(url_nikkei, 0)\n",
    "if 'Name' in nikkei.columns and 'Symbol' in nikkei.columns:\n",
    "    nikkei['Name'] = nikkei['Name'].replace(\",\", \"\", regex=True)  # Supprimer les virgules\n",
    "    nikkei['NameOfStock'] = nikkei['Name'] + \"_\" + str(nikkei['Symbol']) + \".T\"\n",
    "\n",
    "sp500 = read_table(url_sp500, 0)\n",
    "if 'Security' in sp500.columns and 'Symbol' in sp500.columns:\n",
    "    sp500['NameOfStock'] = sp500['Security'] + \"_\" + sp500['Symbol']\n",
    "\n",
    "cac40 = read_table(url_cac40, 4)\n",
    "if 'Company' in cac40.columns and 'Ticker' in cac40.columns:\n",
    "    cac40['NameOfStock'] = cac40['Company'] + \"_\" + cac40['Ticker']\n",
    "\n",
    "ftse100 = read_table(url_ftse100, 4)\n",
    "if 'Company' in ftse100.columns and 'Ticker' in ftse100.columns:\n",
    "    ftse100['NameOfStock'] = ftse100['Company'] + \"_\" + ftse100[\"Ticker\"]"
   ]
  },
  {
   "cell_type": "code",
   "execution_count": null,
   "id": "9a909d39-a952-4948-a7a1-918daac6a452",
   "metadata": {},
   "outputs": [],
   "source": []
  }
 ],
 "metadata": {
  "kernelspec": {
   "display_name": "Python 3 (ipykernel)",
   "language": "python",
   "name": "python3"
  },
  "language_info": {
   "codemirror_mode": {
    "name": "ipython",
    "version": 3
   },
   "file_extension": ".py",
   "mimetype": "text/x-python",
   "name": "python",
   "nbconvert_exporter": "python",
   "pygments_lexer": "ipython3",
   "version": "3.12.4"
  }
 },
 "nbformat": 4,
 "nbformat_minor": 5
}
